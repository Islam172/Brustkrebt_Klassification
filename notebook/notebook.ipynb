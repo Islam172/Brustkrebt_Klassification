{
 "cells": [
  {
   "cell_type": "markdown",
   "id": "71dbcb46",
   "metadata": {},
   "source": [
    "### Data exploration and visualisation\n"
   ]
  },
  {
   "cell_type": "code",
   "execution_count": null,
   "id": "dbe531cc",
   "metadata": {},
   "outputs": [],
   "source": [
    "import pandas as pd"
   ]
  }
 ],
 "metadata": {
  "kernelspec": {
   "display_name": ".venv",
   "language": "python",
   "name": "python3"
  },
  "language_info": {
   "name": "python",
   "version": "3.9.6"
  }
 },
 "nbformat": 4,
 "nbformat_minor": 5
}
